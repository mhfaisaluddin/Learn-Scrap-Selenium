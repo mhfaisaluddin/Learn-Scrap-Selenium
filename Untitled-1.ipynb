{
 "cells": [
  {
   "cell_type": "markdown",
   "metadata": {},
   "source": [
    "# Learn Selenium Scrap on Linkedin Job Post\n",
    "References: Web Scraping Linkedin Job Page with Selenium Python _ by Mert Kucukkuru _ Medium"
   ]
  },
  {
   "cell_type": "markdown",
   "metadata": {},
   "source": [
    "## Libraries and Web Driver Installation\n",
    "Start the project by installing the required library (selenium), and setup the webdriver (chrome webdriver)."
   ]
  },
  {
   "cell_type": "code",
   "execution_count": 5,
   "metadata": {},
   "outputs": [],
   "source": [
    "import time\n",
    "import pandas as pd\n",
    "\n",
    "import selenium\n",
    "from selenium import webdriver\n",
    "from selenium.webdriver.common import by\n",
    "from selenium.webdriver.support.ui import WebDriverWait\n",
    "from selenium.webdriver.support import expected_conditions as EC\n",
    "from selenium.webdriver.common.keys import Keys"
   ]
  },
  {
   "cell_type": "code",
   "execution_count": 30,
   "metadata": {},
   "outputs": [
    {
     "name": "stderr",
     "output_type": "stream",
     "text": [
      "C:\\Users\\User\\AppData\\Local\\Temp\\ipykernel_8088\\2881057493.py:5: DeprecationWarning: executable_path has been deprecated, please pass in a Service object\n",
      "  driver = webdriver.Chrome(path)\n"
     ]
    },
    {
     "name": "stdout",
     "output_type": "stream",
     "text": [
      "Links are being collected now.\n",
      "Found0links for job offers\n"
     ]
    }
   ],
   "source": [
    "# setup the path for the webdriver\n",
    "# driver path\n",
    "\n",
    "path = 'C:/Users/User/Downloads/chromedriver.exe'\n",
    "driver = webdriver.Chrome(path)\n",
    "\n",
    "# maximizing the window\n",
    "#driver.maximize_window()\n",
    "#driver.minimize_window()\n",
    "driver.maximize_window()\n",
    "driver.switch_to.window(driver.current_window_handle)\n",
    "driver.implicitly_wait(10)\n",
    "\n",
    "# entering the site \n",
    "driver.get('https://www.linkedin.com/login')\n",
    "time.sleep(2) # it will make the program wait 2 sec to be sure that the page is loaded\n",
    "\n",
    "# user credentials\n",
    "# reading txt file, storing your account id pass\n",
    "\n",
    "with open('user_credentials.txt', 'r',encoding='utf-8') as file:\n",
    "    user_credentials = file.readlines()\n",
    "    user_credentials = [line.rstrip() for line in user_credentials]\n",
    "\n",
    "user_name = user_credentials[0] # 1st \n",
    "password = user_credentials[1] # 2nd\n",
    "\n",
    "driver.find_element('xpath','//*[@id=\"username\"]').send_keys(user_name)\n",
    "driver.find_element('xpath','//*[@id=\"password\"]').send_keys(password)\n",
    "time.sleep(2)\n",
    "\n",
    "# login button\n",
    "driver.find_element('xpath','//*[@id=\"organic-div\"]/form/div[3]/button').click()\n",
    "driver.implicitly_wait(20)\n",
    "\n",
    "# job page\n",
    "driver.find_element('xpath','//*[@id=\"global-nav\"]/div/nav/ul/li[3]/a').click()\n",
    "time.sleep(3)\n",
    "\n",
    "# goto search result directly via link\n",
    "driver.get('https://www.linkedin.com/jobs/search/?currentJobId=3332331735&geoId=102478259&keywords=data%20science&location=Indonesia&refresh=true')\n",
    "time.sleep(1)\n",
    "\n",
    "# minimizing the chat columns\n",
    "#driver.find_element('xpath', '//*[@id=\"ember128\"]').click()\n",
    "\n",
    "## border\n"
   ]
  },
  {
   "cell_type": "code",
   "execution_count": 27,
   "metadata": {},
   "outputs": [
    {
     "name": "stdout",
     "output_type": "stream",
     "text": [
      "Links are being collected now.\n",
      "Found0links for job offers\n"
     ]
    }
   ],
   "source": [
    "# get all links for these offers\n",
    "# urut code ulang\n",
    "links = []\n",
    "# navigate 10 pages\n",
    "print('Links are being collected now.')\n",
    "try:\n",
    "    for page in range (2,11):\n",
    "        time.sleep(2)\n",
    "        jobs_block = driver.find_element(by.TAG_NAME, 'jobs-search-results-list')\n",
    "        jobs_list = jobs_block.find_elements(by.CSS_SELECTOR, '.jobs-search-results-list-item')\n",
    "\n",
    "        for job in jobs_list:\n",
    "            all_links = job.find_elements(by.TAG_NAME, 'a')\n",
    "            for a in all_links:\n",
    "                if str(a.get_attribute('href')).startswith('https://www.linkedin.com/jobs/view') and a.get_attribute('href') not in links:\n",
    "                    links.append(a.get_attribute('href'))\n",
    "                else:\n",
    "                    pass\n",
    "            # scroll down\n",
    "            driver.execute_script('arguments[0].scrollIntoView();', job)\n",
    "\n",
    "        print(f'Collecting the links in the page : {page-1}')\n",
    "        # go to next page\n",
    "        driver.find_element('xpath', f\"//button[@aria-label='Page {page}']\").click()\n",
    "        time.sleep(3)\n",
    "except:\n",
    "    pass\n",
    "print('Found' + str(len(links)) + 'links for job offers')\n",
    "\n",
    "    "
   ]
  },
  {
   "cell_type": "code",
   "execution_count": 28,
   "metadata": {},
   "outputs": [
    {
     "data": {
      "text/plain": [
       "[]"
      ]
     },
     "execution_count": 28,
     "metadata": {},
     "output_type": "execute_result"
    }
   ],
   "source": [
    "links"
   ]
  }
 ],
 "metadata": {
  "kernelspec": {
   "display_name": "Python 3.9.13 ('base')",
   "language": "python",
   "name": "python3"
  },
  "language_info": {
   "codemirror_mode": {
    "name": "ipython",
    "version": 3
   },
   "file_extension": ".py",
   "mimetype": "text/x-python",
   "name": "python",
   "nbconvert_exporter": "python",
   "pygments_lexer": "ipython3",
   "version": "3.9.13"
  },
  "orig_nbformat": 4,
  "vscode": {
   "interpreter": {
    "hash": "f08154012ddadd8e950e6e9e035c7a7b32c136e7647e9b7c77e02eb723a8bedb"
   }
  }
 },
 "nbformat": 4,
 "nbformat_minor": 2
}
